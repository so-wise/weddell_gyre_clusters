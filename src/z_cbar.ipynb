{
 "cells": [
  {
   "cell_type": "code",
   "execution_count": 1,
   "id": "9db246d2-bd4b-4bc8-8051-5336216a46fc",
   "metadata": {},
   "outputs": [],
   "source": [
    "import matplotlib\n",
    "import matplotlib.pyplot as plt\n",
    "import matplotlib.colors as colors\n",
    "import matplotlib.cm as cmx\n",
    "import matplotlib as mpl"
   ]
  },
  {
   "cell_type": "code",
   "execution_count": 21,
   "id": "4729cc08-9239-4cfa-83d2-af07d951399d",
   "metadata": {},
   "outputs": [
    {
     "data": {
      "image/png": "[encoded data removed]",
      "text/plain": [
       "<Figure size 21.6x432 with 1 Axes>"
      ]
     },
     "metadata": {
      "needs_background": "light"
     },
     "output_type": "display_data"
    }
   ],
   "source": [
    "ploc = 'plots/plots_WeddellClassOnly_top1000m_K04_forPaperRevisions_deleteThis/'\n",
    "\n",
    "bounds = [0, 5, 10, 15, 20, 25, 30, 35, 40, 45, 50]\n",
    "cmap = plt.get_cmap('cividis')\n",
    "\n",
    "fig, ax = plt.subplots(figsize=(0.3,6.0)) \n",
    "fig.subplots_adjust(bottom=0.5)  \n",
    "fig.colorbar(mpl.cm.ScalarMappable(norm=mpl.colors.BoundaryNorm(bounds, cmap.N, extend='max'), \n",
    "                                   cmap=cmap),              \n",
    "                                   cax=ax, \n",
    "                                   orientation='vertical',   \n",
    "                                   label=\"Count\")\n",
    "\n",
    "# \n",
    "plt.savefig(ploc + 'NEWhistogram_latlon_map_colorbar' + 'imetric' + '.png', bbox_inches='tight')\n",
    "plt.savefig(ploc + 'NEWhistogram_latlon_map_colorbar' + 'imetric' + '.pdf', bbox_inches='tight')"
   ]
  },
  {
   "cell_type": "code",
   "execution_count": null,
   "id": "cbdf316d-ae06-45f2-9e69-f07d7f5d7e81",
   "metadata": {},
   "outputs": [],
   "source": []
  }
 ],
 "metadata": {
  "kernelspec": {
   "display_name": "Python 3 (ipykernel)",
   "language": "python",
   "name": "python3"
  },
  "language_info": {
   "codemirror_mode": {
    "name": "ipython",
    "version": 3
   },
   "file_extension": ".py",
   "mimetype": "text/x-python",
   "name": "python",
   "nbconvert_exporter": "python",
   "pygments_lexer": "ipython3",
   "version": "3.9.7"
  }
 },
 "nbformat": 4,
 "nbformat_minor": 5
}

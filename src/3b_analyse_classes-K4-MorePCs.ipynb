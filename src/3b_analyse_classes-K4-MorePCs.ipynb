{
 "cells": [
  {
   "cell_type": "markdown",
   "id": "d105ecb6-0035-42aa-aa59-1115dd2188d3",
   "metadata": {},
   "source": [
    "# Analyze classes"
   ]
  },
  {
   "cell_type": "markdown",
   "id": "7155ebe7-3097-44fe-8fdc-eb6c69c5a9d8",
   "metadata": {},
   "source": [
    "## Initial setup"
   ]
  },
  {
   "cell_type": "markdown",
   "id": "a27bcba8-f454-49ac-8e6e-120aee205f2e",
   "metadata": {},
   "source": [
    "### Load modules"
   ]
  },
  {
   "cell_type": "code",
   "execution_count": 1,
   "id": "66535f08-be33-40c8-ade0-2295d4f72c69",
   "metadata": {
    "tags": []
   },
   "outputs": [],
   "source": [
    "# modules in this package\n",
    "import load_and_preprocess as lp\n",
    "import analysis as at\n",
    "import bic_and_aic as ba\n",
    "import plot_tools as pt\n",
    "import file_io as io\n",
    "import numpy as np\n",
    "import xarray as xr\n",
    "import density\n",
    "import gmm\n",
    "# plotting tools\n",
    "import matplotlib\n",
    "import matplotlib.pyplot as plt\n",
    "import matplotlib.colors as colors\n",
    "import matplotlib.cm as cmx\n",
    "import matplotlib as mpl\n",
    "import cmocean\n",
    "# os tools\n",
    "import os.path\n",
    "\n",
    "# suppress a particular warning\n",
    "import warnings\n",
    "warnings.filterwarnings('ignore', 'RuntimeWarning: All-NaN slice encountered')"
   ]
  },
  {
   "cell_type": "markdown",
   "id": "37ace6a7-7edf-4930-8da9-ac5dcbe741bb",
   "metadata": {},
   "source": [
    "### Set runtime parameters (file locations, etc.)"
   ]
  },
  {
   "cell_type": "code",
   "execution_count": 2,
   "id": "2638158b-c400-45e2-a61a-1ca4821ec5bf",
   "metadata": {},
   "outputs": [],
   "source": [
    "# set locations and names\n",
    "descrip = 'WeddellOnly' # extra description for filename\n",
    "data_location = '../../so-chic-data/' # input data location\n",
    "classified_data_location = 'models/profiles_-65to80lon_-85to-30lat_20to1000depth_5K_allDomain_revised.nc'\n",
    "ploc = 'plots/plots_WeddellClassOnly_top1000m_K04_forPaperRevisions_morePCs/'\n",
    "#ploc = 'tests/'\n",
    "dloc = 'models/'\n",
    "\n",
    "# if plot directory doesn't exist, create it\n",
    "if not os.path.exists(ploc):\n",
    "    os.makedirs(ploc)\n",
    "    \n",
    "# if tSNE directory doesn't exist, create it\n",
    "if not os.path.exists(ploc+'/tSNE/'):\n",
    "    os.makedirs(ploc+'/tSNE/')\n",
    "\n",
    "# save the processed output as a NetCDF file?\n",
    "saveOutput = False\n",
    "\n",
    "# number of PCA components (roughly 95%)\n",
    "n_pca = 10\n",
    "\n",
    "# make decision about n_components_selected (iterative part of analysis)\n",
    "n_components_selected = 4\n",
    "\n",
    "#longitude and latitude range\n",
    "lon_min = -65\n",
    "lon_max =  80\n",
    "lat_min = -80\n",
    "lat_max = -45\n",
    "# depth range\n",
    "zmin = 20.0\n",
    "zmax = 1000.0\n",
    "# density range\n",
    "sig0range = (26.6, 28.0)\n",
    "\n",
    "# temperature and salinity ranges for plotting\n",
    "lon_range=(lon_min, lon_max)\n",
    "lat_range=(lat_min, lat_max)\n",
    "Trange=(-2.2, 6.0)\n",
    "Srange=(33.5, 35.0)\n",
    "\n",
    "# create filename for saving GMM and saving labelled profiles\n",
    "pca_fname = dloc + 'pca_' + str(int(lon_min)) + 'to' + str(int(lon_max)) + 'lon_' + str(int(lat_min)) + 'to' + str(int(lat_max)) + 'lat_' + str(int(zmin)) + 'to' + str(int(zmax)) + 'depth_' + str(int(n_pca)) + descrip\n",
    "gmm_fname = dloc + 'gmm_' + str(int(lon_min)) + 'to' + str(int(lon_max)) + 'lon_' + str(int(lat_min)) + 'to' + str(int(lat_max)) + 'lat_' + str(int(zmin)) + 'to' + str(int(zmax)) + 'depth_' + str(int(n_components_selected)) + 'K_' + descrip\n",
    "fname = dloc + 'profiles_' + str(int(lon_min)) + 'to' + str(int(lon_max)) + 'lon_' + str(int(lat_min)) + 'to' + str(int(lat_max)) + 'lat_' + str(int(zmin)) + 'to' + str(int(zmax)) + 'depth_' + str(int(n_components_selected)) + 'K_' + descrip + '.nc'\n",
    "\n",
    "# colormap\n",
    "colormap = plt.get_cmap('Dark2', n_components_selected)\n",
    "colormap_cividis = plt.get_cmap('cividis', 20)"
   ]
  },
  {
   "cell_type": "markdown",
   "id": "434e0e9d-a694-4c00-a6cd-02d9e9e2defb",
   "metadata": {},
   "source": [
    "### Load classified profile data"
   ]
  },
  {
   "cell_type": "code",
   "execution_count": 3,
   "id": "9b738ee1-a915-4872-9ca1-96b04969d0ed",
   "metadata": {},
   "outputs": [
    {
     "ename": "FileNotFoundError",
     "evalue": "[Errno 2] No such file or directory: b'/work/weddell_gyre_clusters/src/weddell_classified_n04_R1_morePCs.nc'",
     "output_type": "error",
     "traceback": [
      "\u001b[0;31m---------------------------------------------------------------------------\u001b[0m",
      "\u001b[0;31mKeyError\u001b[0m                                  Traceback (most recent call last)",
      "\u001b[0;32m/srv/conda/envs/notebook/lib/python3.9/site-packages/xarray/backends/file_manager.py\u001b[0m in \u001b[0;36m_acquire_with_cache_info\u001b[0;34m(self, needs_lock)\u001b[0m\n\u001b[1;32m    198\u001b[0m             \u001b[0;32mtry\u001b[0m\u001b[0;34m:\u001b[0m\u001b[0;34m\u001b[0m\u001b[0;34m\u001b[0m\u001b[0m\n\u001b[0;32m--> 199\u001b[0;31m                 \u001b[0mfile\u001b[0m \u001b[0;34m=\u001b[0m \u001b[0mself\u001b[0m\u001b[0;34m.\u001b[0m\u001b[0m_cache\u001b[0m\u001b[0;34m[\u001b[0m\u001b[0mself\u001b[0m\u001b[0;34m.\u001b[0m\u001b[0m_key\u001b[0m\u001b[0;34m]\u001b[0m\u001b[0;34m\u001b[0m\u001b[0;34m\u001b[0m\u001b[0m\n\u001b[0m\u001b[1;32m    200\u001b[0m             \u001b[0;32mexcept\u001b[0m \u001b[0mKeyError\u001b[0m\u001b[0;34m:\u001b[0m\u001b[0;34m\u001b[0m\u001b[0;34m\u001b[0m\u001b[0m\n",
      "\u001b[0;32m/srv/conda/envs/notebook/lib/python3.9/site-packages/xarray/backends/lru_cache.py\u001b[0m in \u001b[0;36m__getitem__\u001b[0;34m(self, key)\u001b[0m\n\u001b[1;32m     52\u001b[0m         \u001b[0;32mwith\u001b[0m \u001b[0mself\u001b[0m\u001b[0;34m.\u001b[0m\u001b[0m_lock\u001b[0m\u001b[0;34m:\u001b[0m\u001b[0;34m\u001b[0m\u001b[0;34m\u001b[0m\u001b[0m\n\u001b[0;32m---> 53\u001b[0;31m             \u001b[0mvalue\u001b[0m \u001b[0;34m=\u001b[0m \u001b[0mself\u001b[0m\u001b[0;34m.\u001b[0m\u001b[0m_cache\u001b[0m\u001b[0;34m[\u001b[0m\u001b[0mkey\u001b[0m\u001b[0;34m]\u001b[0m\u001b[0;34m\u001b[0m\u001b[0;34m\u001b[0m\u001b[0m\n\u001b[0m\u001b[1;32m     54\u001b[0m             \u001b[0mself\u001b[0m\u001b[0;34m.\u001b[0m\u001b[0m_cache\u001b[0m\u001b[0;34m.\u001b[0m\u001b[0mmove_to_end\u001b[0m\u001b[0;34m(\u001b[0m\u001b[0mkey\u001b[0m\u001b[0;34m)\u001b[0m\u001b[0;34m\u001b[0m\u001b[0;34m\u001b[0m\u001b[0m\n",
      "\u001b[0;31mKeyError\u001b[0m: [<class 'netCDF4._netCDF4.Dataset'>, ('/work/weddell_gyre_clusters/src/weddell_classified_n04_R1_morePCs.nc',), 'r', (('clobber', True), ('diskless', False), ('format', 'NETCDF4'), ('persist', False))]",
      "\nDuring handling of the above exception, another exception occurred:\n",
      "\u001b[0;31mFileNotFoundError\u001b[0m                         Traceback (most recent call last)",
      "\u001b[0;32m/tmp/ipykernel_384/2803174793.py\u001b[0m in \u001b[0;36m<module>\u001b[0;34m\u001b[0m\n\u001b[0;32m----> 1\u001b[0;31m \u001b[0mdfp\u001b[0m \u001b[0;34m=\u001b[0m \u001b[0mxr\u001b[0m\u001b[0;34m.\u001b[0m\u001b[0mopen_dataset\u001b[0m\u001b[0;34m(\u001b[0m\u001b[0;34m\"weddell_classified_n04_R1_morePCs.nc\"\u001b[0m\u001b[0;34m)\u001b[0m\u001b[0;34m\u001b[0m\u001b[0;34m\u001b[0m\u001b[0m\n\u001b[0m\u001b[1;32m      2\u001b[0m \u001b[0;31m# select the top pressure level for plotting purposes\u001b[0m\u001b[0;34m\u001b[0m\u001b[0;34m\u001b[0m\u001b[0m\n\u001b[1;32m      3\u001b[0m \u001b[0mdf1D\u001b[0m \u001b[0;34m=\u001b[0m \u001b[0mdfp\u001b[0m\u001b[0;34m.\u001b[0m\u001b[0misel\u001b[0m\u001b[0;34m(\u001b[0m\u001b[0mdepth\u001b[0m\u001b[0;34m=\u001b[0m\u001b[0;36m0\u001b[0m\u001b[0;34m)\u001b[0m\u001b[0;34m\u001b[0m\u001b[0;34m\u001b[0m\u001b[0m\n",
      "\u001b[0;32m/srv/conda/envs/notebook/lib/python3.9/site-packages/xarray/backends/api.py\u001b[0m in \u001b[0;36mopen_dataset\u001b[0;34m(filename_or_obj, engine, chunks, cache, decode_cf, mask_and_scale, decode_times, decode_timedelta, use_cftime, concat_characters, decode_coords, drop_variables, backend_kwargs, *args, **kwargs)\u001b[0m\n\u001b[1;32m    493\u001b[0m \u001b[0;34m\u001b[0m\u001b[0m\n\u001b[1;32m    494\u001b[0m     \u001b[0moverwrite_encoded_chunks\u001b[0m \u001b[0;34m=\u001b[0m \u001b[0mkwargs\u001b[0m\u001b[0;34m.\u001b[0m\u001b[0mpop\u001b[0m\u001b[0;34m(\u001b[0m\u001b[0;34m\"overwrite_encoded_chunks\"\u001b[0m\u001b[0;34m,\u001b[0m \u001b[0;32mNone\u001b[0m\u001b[0;34m)\u001b[0m\u001b[0;34m\u001b[0m\u001b[0;34m\u001b[0m\u001b[0m\n\u001b[0;32m--> 495\u001b[0;31m     backend_ds = backend.open_dataset(\n\u001b[0m\u001b[1;32m    496\u001b[0m         \u001b[0mfilename_or_obj\u001b[0m\u001b[0;34m,\u001b[0m\u001b[0;34m\u001b[0m\u001b[0;34m\u001b[0m\u001b[0m\n\u001b[1;32m    497\u001b[0m         \u001b[0mdrop_variables\u001b[0m\u001b[0;34m=\u001b[0m\u001b[0mdrop_variables\u001b[0m\u001b[0;34m,\u001b[0m\u001b[0;34m\u001b[0m\u001b[0;34m\u001b[0m\u001b[0m\n",
      "\u001b[0;32m/srv/conda/envs/notebook/lib/python3.9/site-packages/xarray/backends/netCDF4_.py\u001b[0m in \u001b[0;36mopen_dataset\u001b[0;34m(self, filename_or_obj, mask_and_scale, decode_times, concat_characters, decode_coords, drop_variables, use_cftime, decode_timedelta, group, mode, format, clobber, diskless, persist, lock, autoclose)\u001b[0m\n\u001b[1;32m    548\u001b[0m \u001b[0;34m\u001b[0m\u001b[0m\n\u001b[1;32m    549\u001b[0m         \u001b[0mfilename_or_obj\u001b[0m \u001b[0;34m=\u001b[0m \u001b[0m_normalize_path\u001b[0m\u001b[0;34m(\u001b[0m\u001b[0mfilename_or_obj\u001b[0m\u001b[0;34m)\u001b[0m\u001b[0;34m\u001b[0m\u001b[0;34m\u001b[0m\u001b[0m\n\u001b[0;32m--> 550\u001b[0;31m         store = NetCDF4DataStore.open(\n\u001b[0m\u001b[1;32m    551\u001b[0m             \u001b[0mfilename_or_obj\u001b[0m\u001b[0;34m,\u001b[0m\u001b[0;34m\u001b[0m\u001b[0;34m\u001b[0m\u001b[0m\n\u001b[1;32m    552\u001b[0m             \u001b[0mmode\u001b[0m\u001b[0;34m=\u001b[0m\u001b[0mmode\u001b[0m\u001b[0;34m,\u001b[0m\u001b[0;34m\u001b[0m\u001b[0;34m\u001b[0m\u001b[0m\n",
      "\u001b[0;32m/srv/conda/envs/notebook/lib/python3.9/site-packages/xarray/backends/netCDF4_.py\u001b[0m in \u001b[0;36mopen\u001b[0;34m(cls, filename, mode, format, group, clobber, diskless, persist, lock, lock_maker, autoclose)\u001b[0m\n\u001b[1;32m    377\u001b[0m             \u001b[0mnetCDF4\u001b[0m\u001b[0;34m.\u001b[0m\u001b[0mDataset\u001b[0m\u001b[0;34m,\u001b[0m \u001b[0mfilename\u001b[0m\u001b[0;34m,\u001b[0m \u001b[0mmode\u001b[0m\u001b[0;34m=\u001b[0m\u001b[0mmode\u001b[0m\u001b[0;34m,\u001b[0m \u001b[0mkwargs\u001b[0m\u001b[0;34m=\u001b[0m\u001b[0mkwargs\u001b[0m\u001b[0;34m\u001b[0m\u001b[0;34m\u001b[0m\u001b[0m\n\u001b[1;32m    378\u001b[0m         )\n\u001b[0;32m--> 379\u001b[0;31m         \u001b[0;32mreturn\u001b[0m \u001b[0mcls\u001b[0m\u001b[0;34m(\u001b[0m\u001b[0mmanager\u001b[0m\u001b[0;34m,\u001b[0m \u001b[0mgroup\u001b[0m\u001b[0;34m=\u001b[0m\u001b[0mgroup\u001b[0m\u001b[0;34m,\u001b[0m \u001b[0mmode\u001b[0m\u001b[0;34m=\u001b[0m\u001b[0mmode\u001b[0m\u001b[0;34m,\u001b[0m \u001b[0mlock\u001b[0m\u001b[0;34m=\u001b[0m\u001b[0mlock\u001b[0m\u001b[0;34m,\u001b[0m \u001b[0mautoclose\u001b[0m\u001b[0;34m=\u001b[0m\u001b[0mautoclose\u001b[0m\u001b[0;34m)\u001b[0m\u001b[0;34m\u001b[0m\u001b[0;34m\u001b[0m\u001b[0m\n\u001b[0m\u001b[1;32m    380\u001b[0m \u001b[0;34m\u001b[0m\u001b[0m\n\u001b[1;32m    381\u001b[0m     \u001b[0;32mdef\u001b[0m \u001b[0m_acquire\u001b[0m\u001b[0;34m(\u001b[0m\u001b[0mself\u001b[0m\u001b[0;34m,\u001b[0m \u001b[0mneeds_lock\u001b[0m\u001b[0;34m=\u001b[0m\u001b[0;32mTrue\u001b[0m\u001b[0;34m)\u001b[0m\u001b[0;34m:\u001b[0m\u001b[0;34m\u001b[0m\u001b[0;34m\u001b[0m\u001b[0m\n",
      "\u001b[0;32m/srv/conda/envs/notebook/lib/python3.9/site-packages/xarray/backends/netCDF4_.py\u001b[0m in \u001b[0;36m__init__\u001b[0;34m(self, manager, group, mode, lock, autoclose)\u001b[0m\n\u001b[1;32m    325\u001b[0m         \u001b[0mself\u001b[0m\u001b[0;34m.\u001b[0m\u001b[0m_group\u001b[0m \u001b[0;34m=\u001b[0m \u001b[0mgroup\u001b[0m\u001b[0;34m\u001b[0m\u001b[0;34m\u001b[0m\u001b[0m\n\u001b[1;32m    326\u001b[0m         \u001b[0mself\u001b[0m\u001b[0;34m.\u001b[0m\u001b[0m_mode\u001b[0m \u001b[0;34m=\u001b[0m \u001b[0mmode\u001b[0m\u001b[0;34m\u001b[0m\u001b[0;34m\u001b[0m\u001b[0m\n\u001b[0;32m--> 327\u001b[0;31m         \u001b[0mself\u001b[0m\u001b[0;34m.\u001b[0m\u001b[0mformat\u001b[0m \u001b[0;34m=\u001b[0m \u001b[0mself\u001b[0m\u001b[0;34m.\u001b[0m\u001b[0mds\u001b[0m\u001b[0;34m.\u001b[0m\u001b[0mdata_model\u001b[0m\u001b[0;34m\u001b[0m\u001b[0;34m\u001b[0m\u001b[0m\n\u001b[0m\u001b[1;32m    328\u001b[0m         \u001b[0mself\u001b[0m\u001b[0;34m.\u001b[0m\u001b[0m_filename\u001b[0m \u001b[0;34m=\u001b[0m \u001b[0mself\u001b[0m\u001b[0;34m.\u001b[0m\u001b[0mds\u001b[0m\u001b[0;34m.\u001b[0m\u001b[0mfilepath\u001b[0m\u001b[0;34m(\u001b[0m\u001b[0;34m)\u001b[0m\u001b[0;34m\u001b[0m\u001b[0;34m\u001b[0m\u001b[0m\n\u001b[1;32m    329\u001b[0m         \u001b[0mself\u001b[0m\u001b[0;34m.\u001b[0m\u001b[0mis_remote\u001b[0m \u001b[0;34m=\u001b[0m \u001b[0mis_remote_uri\u001b[0m\u001b[0;34m(\u001b[0m\u001b[0mself\u001b[0m\u001b[0;34m.\u001b[0m\u001b[0m_filename\u001b[0m\u001b[0;34m)\u001b[0m\u001b[0;34m\u001b[0m\u001b[0;34m\u001b[0m\u001b[0m\n",
      "\u001b[0;32m/srv/conda/envs/notebook/lib/python3.9/site-packages/xarray/backends/netCDF4_.py\u001b[0m in \u001b[0;36mds\u001b[0;34m(self)\u001b[0m\n\u001b[1;32m    386\u001b[0m     \u001b[0;34m@\u001b[0m\u001b[0mproperty\u001b[0m\u001b[0;34m\u001b[0m\u001b[0;34m\u001b[0m\u001b[0m\n\u001b[1;32m    387\u001b[0m     \u001b[0;32mdef\u001b[0m \u001b[0mds\u001b[0m\u001b[0;34m(\u001b[0m\u001b[0mself\u001b[0m\u001b[0;34m)\u001b[0m\u001b[0;34m:\u001b[0m\u001b[0;34m\u001b[0m\u001b[0;34m\u001b[0m\u001b[0m\n\u001b[0;32m--> 388\u001b[0;31m         \u001b[0;32mreturn\u001b[0m \u001b[0mself\u001b[0m\u001b[0;34m.\u001b[0m\u001b[0m_acquire\u001b[0m\u001b[0;34m(\u001b[0m\u001b[0;34m)\u001b[0m\u001b[0;34m\u001b[0m\u001b[0;34m\u001b[0m\u001b[0m\n\u001b[0m\u001b[1;32m    389\u001b[0m \u001b[0;34m\u001b[0m\u001b[0m\n\u001b[1;32m    390\u001b[0m     \u001b[0;32mdef\u001b[0m \u001b[0mopen_store_variable\u001b[0m\u001b[0;34m(\u001b[0m\u001b[0mself\u001b[0m\u001b[0;34m,\u001b[0m \u001b[0mname\u001b[0m\u001b[0;34m,\u001b[0m \u001b[0mvar\u001b[0m\u001b[0;34m)\u001b[0m\u001b[0;34m:\u001b[0m\u001b[0;34m\u001b[0m\u001b[0;34m\u001b[0m\u001b[0m\n",
      "\u001b[0;32m/srv/conda/envs/notebook/lib/python3.9/site-packages/xarray/backends/netCDF4_.py\u001b[0m in \u001b[0;36m_acquire\u001b[0;34m(self, needs_lock)\u001b[0m\n\u001b[1;32m    380\u001b[0m \u001b[0;34m\u001b[0m\u001b[0m\n\u001b[1;32m    381\u001b[0m     \u001b[0;32mdef\u001b[0m \u001b[0m_acquire\u001b[0m\u001b[0;34m(\u001b[0m\u001b[0mself\u001b[0m\u001b[0;34m,\u001b[0m \u001b[0mneeds_lock\u001b[0m\u001b[0;34m=\u001b[0m\u001b[0;32mTrue\u001b[0m\u001b[0;34m)\u001b[0m\u001b[0;34m:\u001b[0m\u001b[0;34m\u001b[0m\u001b[0;34m\u001b[0m\u001b[0m\n\u001b[0;32m--> 382\u001b[0;31m         \u001b[0;32mwith\u001b[0m \u001b[0mself\u001b[0m\u001b[0;34m.\u001b[0m\u001b[0m_manager\u001b[0m\u001b[0;34m.\u001b[0m\u001b[0macquire_context\u001b[0m\u001b[0;34m(\u001b[0m\u001b[0mneeds_lock\u001b[0m\u001b[0;34m)\u001b[0m \u001b[0;32mas\u001b[0m \u001b[0mroot\u001b[0m\u001b[0;34m:\u001b[0m\u001b[0;34m\u001b[0m\u001b[0;34m\u001b[0m\u001b[0m\n\u001b[0m\u001b[1;32m    383\u001b[0m             \u001b[0mds\u001b[0m \u001b[0;34m=\u001b[0m \u001b[0m_nc4_require_group\u001b[0m\u001b[0;34m(\u001b[0m\u001b[0mroot\u001b[0m\u001b[0;34m,\u001b[0m \u001b[0mself\u001b[0m\u001b[0;34m.\u001b[0m\u001b[0m_group\u001b[0m\u001b[0;34m,\u001b[0m \u001b[0mself\u001b[0m\u001b[0;34m.\u001b[0m\u001b[0m_mode\u001b[0m\u001b[0;34m)\u001b[0m\u001b[0;34m\u001b[0m\u001b[0;34m\u001b[0m\u001b[0m\n\u001b[1;32m    384\u001b[0m         \u001b[0;32mreturn\u001b[0m \u001b[0mds\u001b[0m\u001b[0;34m\u001b[0m\u001b[0;34m\u001b[0m\u001b[0m\n",
      "\u001b[0;32m/srv/conda/envs/notebook/lib/python3.9/contextlib.py\u001b[0m in \u001b[0;36m__enter__\u001b[0;34m(self)\u001b[0m\n\u001b[1;32m    117\u001b[0m         \u001b[0;32mdel\u001b[0m \u001b[0mself\u001b[0m\u001b[0;34m.\u001b[0m\u001b[0margs\u001b[0m\u001b[0;34m,\u001b[0m \u001b[0mself\u001b[0m\u001b[0;34m.\u001b[0m\u001b[0mkwds\u001b[0m\u001b[0;34m,\u001b[0m \u001b[0mself\u001b[0m\u001b[0;34m.\u001b[0m\u001b[0mfunc\u001b[0m\u001b[0;34m\u001b[0m\u001b[0;34m\u001b[0m\u001b[0m\n\u001b[1;32m    118\u001b[0m         \u001b[0;32mtry\u001b[0m\u001b[0;34m:\u001b[0m\u001b[0;34m\u001b[0m\u001b[0;34m\u001b[0m\u001b[0m\n\u001b[0;32m--> 119\u001b[0;31m             \u001b[0;32mreturn\u001b[0m \u001b[0mnext\u001b[0m\u001b[0;34m(\u001b[0m\u001b[0mself\u001b[0m\u001b[0;34m.\u001b[0m\u001b[0mgen\u001b[0m\u001b[0;34m)\u001b[0m\u001b[0;34m\u001b[0m\u001b[0;34m\u001b[0m\u001b[0m\n\u001b[0m\u001b[1;32m    120\u001b[0m         \u001b[0;32mexcept\u001b[0m \u001b[0mStopIteration\u001b[0m\u001b[0;34m:\u001b[0m\u001b[0;34m\u001b[0m\u001b[0;34m\u001b[0m\u001b[0m\n\u001b[1;32m    121\u001b[0m             \u001b[0;32mraise\u001b[0m \u001b[0mRuntimeError\u001b[0m\u001b[0;34m(\u001b[0m\u001b[0;34m\"generator didn't yield\"\u001b[0m\u001b[0;34m)\u001b[0m \u001b[0;32mfrom\u001b[0m \u001b[0;32mNone\u001b[0m\u001b[0;34m\u001b[0m\u001b[0;34m\u001b[0m\u001b[0m\n",
      "\u001b[0;32m/srv/conda/envs/notebook/lib/python3.9/site-packages/xarray/backends/file_manager.py\u001b[0m in \u001b[0;36macquire_context\u001b[0;34m(self, needs_lock)\u001b[0m\n\u001b[1;32m    185\u001b[0m     \u001b[0;32mdef\u001b[0m \u001b[0macquire_context\u001b[0m\u001b[0;34m(\u001b[0m\u001b[0mself\u001b[0m\u001b[0;34m,\u001b[0m \u001b[0mneeds_lock\u001b[0m\u001b[0;34m=\u001b[0m\u001b[0;32mTrue\u001b[0m\u001b[0;34m)\u001b[0m\u001b[0;34m:\u001b[0m\u001b[0;34m\u001b[0m\u001b[0;34m\u001b[0m\u001b[0m\n\u001b[1;32m    186\u001b[0m         \u001b[0;34m\"\"\"Context manager for acquiring a file.\"\"\"\u001b[0m\u001b[0;34m\u001b[0m\u001b[0;34m\u001b[0m\u001b[0m\n\u001b[0;32m--> 187\u001b[0;31m         \u001b[0mfile\u001b[0m\u001b[0;34m,\u001b[0m \u001b[0mcached\u001b[0m \u001b[0;34m=\u001b[0m \u001b[0mself\u001b[0m\u001b[0;34m.\u001b[0m\u001b[0m_acquire_with_cache_info\u001b[0m\u001b[0;34m(\u001b[0m\u001b[0mneeds_lock\u001b[0m\u001b[0;34m)\u001b[0m\u001b[0;34m\u001b[0m\u001b[0;34m\u001b[0m\u001b[0m\n\u001b[0m\u001b[1;32m    188\u001b[0m         \u001b[0;32mtry\u001b[0m\u001b[0;34m:\u001b[0m\u001b[0;34m\u001b[0m\u001b[0;34m\u001b[0m\u001b[0m\n\u001b[1;32m    189\u001b[0m             \u001b[0;32myield\u001b[0m \u001b[0mfile\u001b[0m\u001b[0;34m\u001b[0m\u001b[0;34m\u001b[0m\u001b[0m\n",
      "\u001b[0;32m/srv/conda/envs/notebook/lib/python3.9/site-packages/xarray/backends/file_manager.py\u001b[0m in \u001b[0;36m_acquire_with_cache_info\u001b[0;34m(self, needs_lock)\u001b[0m\n\u001b[1;32m    203\u001b[0m                     \u001b[0mkwargs\u001b[0m \u001b[0;34m=\u001b[0m \u001b[0mkwargs\u001b[0m\u001b[0;34m.\u001b[0m\u001b[0mcopy\u001b[0m\u001b[0;34m(\u001b[0m\u001b[0;34m)\u001b[0m\u001b[0;34m\u001b[0m\u001b[0;34m\u001b[0m\u001b[0m\n\u001b[1;32m    204\u001b[0m                     \u001b[0mkwargs\u001b[0m\u001b[0;34m[\u001b[0m\u001b[0;34m\"mode\"\u001b[0m\u001b[0;34m]\u001b[0m \u001b[0;34m=\u001b[0m \u001b[0mself\u001b[0m\u001b[0;34m.\u001b[0m\u001b[0m_mode\u001b[0m\u001b[0;34m\u001b[0m\u001b[0;34m\u001b[0m\u001b[0m\n\u001b[0;32m--> 205\u001b[0;31m                 \u001b[0mfile\u001b[0m \u001b[0;34m=\u001b[0m \u001b[0mself\u001b[0m\u001b[0;34m.\u001b[0m\u001b[0m_opener\u001b[0m\u001b[0;34m(\u001b[0m\u001b[0;34m*\u001b[0m\u001b[0mself\u001b[0m\u001b[0;34m.\u001b[0m\u001b[0m_args\u001b[0m\u001b[0;34m,\u001b[0m \u001b[0;34m**\u001b[0m\u001b[0mkwargs\u001b[0m\u001b[0;34m)\u001b[0m\u001b[0;34m\u001b[0m\u001b[0;34m\u001b[0m\u001b[0m\n\u001b[0m\u001b[1;32m    206\u001b[0m                 \u001b[0;32mif\u001b[0m \u001b[0mself\u001b[0m\u001b[0;34m.\u001b[0m\u001b[0m_mode\u001b[0m \u001b[0;34m==\u001b[0m \u001b[0;34m\"w\"\u001b[0m\u001b[0;34m:\u001b[0m\u001b[0;34m\u001b[0m\u001b[0;34m\u001b[0m\u001b[0m\n\u001b[1;32m    207\u001b[0m                     \u001b[0;31m# ensure file doesn't get overriden when opened again\u001b[0m\u001b[0;34m\u001b[0m\u001b[0;34m\u001b[0m\u001b[0m\n",
      "\u001b[0;32msrc/netCDF4/_netCDF4.pyx\u001b[0m in \u001b[0;36mnetCDF4._netCDF4.Dataset.__init__\u001b[0;34m()\u001b[0m\n",
      "\u001b[0;32msrc/netCDF4/_netCDF4.pyx\u001b[0m in \u001b[0;36mnetCDF4._netCDF4._ensure_nc_success\u001b[0;34m()\u001b[0m\n",
      "\u001b[0;31mFileNotFoundError\u001b[0m: [Errno 2] No such file or directory: b'/work/weddell_gyre_clusters/src/weddell_classified_n04_R1_morePCs.nc'"
     ]
    }
   ],
   "source": [
    "dfp = xr.open_dataset(\"weddell_classified_n04_R1_morePCs.nc\")\n",
    "# select the top pressure level for plotting purposes\n",
    "df1D = dfp.isel(depth=0)"
   ]
  },
  {
   "cell_type": "markdown",
   "id": "f5600994-34e4-401f-9681-5ee14d742eff",
   "metadata": {},
   "source": [
    "### Mixed layer depth "
   ]
  },
  {
   "cell_type": "code",
   "execution_count": null,
   "id": "0f4d245b-4341-4979-803b-bf4db48ad71e",
   "metadata": {},
   "outputs": [],
   "source": [
    "# print mld stats\n",
    "print('0=transition, 1=gyre core, 2=gyre edge, 3=circumpolar')\n",
    "at.calc_oneLevel_stats(ploc, dfp, n_components_selected)\n",
    "\n",
    "# histogram map (mixed layer depth)\n",
    "pt.plot_hist_map(ploc, dfp, lon_range, lat_range,\n",
    "                 n_components_selected,\n",
    "                 c_range=(0,200),\n",
    "                 vartype='mld',\n",
    "                 colormap=plt.get_cmap('cividis'))"
   ]
  },
  {
   "cell_type": "markdown",
   "id": "b4f2fad2-87cf-4499-a8e3-307f3cc13338",
   "metadata": {
    "tags": []
   },
   "source": [
    "## Depth of temperature  minimum"
   ]
  },
  {
   "cell_type": "code",
   "execution_count": null,
   "id": "2772cd02-a25b-4d29-ab6f-63255316019d",
   "metadata": {},
   "outputs": [],
   "source": [
    "# print mld stats\n",
    "print('0=transition, 1=gyre core, 2=gyre edge, 3=circumpolar')\n",
    "at.calc_oneLevel_stats(ploc, dfp, n_components_selected, varname='Tmin_depth')\n",
    "\n",
    "# histogram map (mixed layer depth)\n",
    "pt.plot_hist_map(ploc, dfp, lon_range, lat_range,\n",
    "                 n_components_selected,\n",
    "                 c_range=(0,300),\n",
    "                 vartype='Tmin_depth',\n",
    "                 colormap=plt.get_cmap('cividis'))"
   ]
  },
  {
   "cell_type": "markdown",
   "id": "a582c6ef-d7fa-49a4-86dc-3db4a9d151ec",
   "metadata": {},
   "source": [
    "### Depth of temperature maximum"
   ]
  },
  {
   "cell_type": "code",
   "execution_count": null,
   "id": "77b6ae18-495e-408e-8de1-d2c7a8de0f2b",
   "metadata": {},
   "outputs": [],
   "source": [
    "# print mld stats\n",
    "print('0=transition, 1=gyre core, 2=gyre edge, 3=circumpolar')\n",
    "at.calc_oneLevel_stats(ploc, dfp, n_components_selected, varname='Tmax_depth')\n",
    "\n",
    "# histogram map (mixed layer depth)\n",
    "pt.plot_hist_map(ploc, dfp, lon_range, lat_range,\n",
    "                 n_components_selected,\n",
    "                 c_range=(0,500),\n",
    "                 vartype='Tmax_depth',\n",
    "                 colormap=plt.get_cmap('cividis'))"
   ]
  },
  {
   "cell_type": "markdown",
   "id": "75fc5ec0-52cf-4fde-8a8c-8b54c04c20b4",
   "metadata": {},
   "source": [
    "### Depth of salinity max"
   ]
  },
  {
   "cell_type": "code",
   "execution_count": null,
   "id": "58e3bf9e-f534-4910-83e6-bf13f177318c",
   "metadata": {},
   "outputs": [],
   "source": [
    "# print mld stats\n",
    "print('0=transition, 1=gyre core, 2=gyre edge, 3=circumpolar')\n",
    "at.calc_oneLevel_stats(ploc, dfp, n_components_selected, varname='Smax_depth')\n",
    "\n",
    "# histogram map (mixed layer depth)\n",
    "pt.plot_hist_map(ploc, dfp, lon_range, lat_range,\n",
    "                 n_components_selected,\n",
    "                 c_range=(0,1000),\n",
    "                 vartype='Smax_depth',\n",
    "                 colormap=plt.get_cmap('cividis'))"
   ]
  },
  {
   "cell_type": "markdown",
   "id": "c05b07f9-7951-4866-a3e3-b5b34823b053",
   "metadata": {},
   "source": [
    "### Depth of salinity minimum"
   ]
  },
  {
   "cell_type": "code",
   "execution_count": null,
   "id": "527fc1cd-361e-4d1d-91e5-f92f08e61e32",
   "metadata": {},
   "outputs": [],
   "source": [
    "# print mld stats\n",
    "print('0=transition, 1=gyre core, 2=gyre edge, 3=circumpolar')\n",
    "at.calc_oneLevel_stats(ploc, dfp, n_components_selected, varname='Smin_depth')\n",
    "\n",
    "# histogram map (mixed layer depth)\n",
    "pt.plot_hist_map(ploc, dfp, lon_range, lat_range,\n",
    "                 n_components_selected,\n",
    "                 c_range=(0,50),\n",
    "                 vartype='Smin_depth',\n",
    "                 colormap=plt.get_cmap('cividis'))"
   ]
  },
  {
   "cell_type": "markdown",
   "id": "eb6df97c-94a1-4d28-9fd2-c0406cd86981",
   "metadata": {
    "tags": []
   },
   "source": [
    "### Dynamic height"
   ]
  },
  {
   "cell_type": "code",
   "execution_count": null,
   "id": "c8a1c124-5dba-4dd7-90d8-cc3601ec6a1a",
   "metadata": {},
   "outputs": [],
   "source": [
    "# stats at 500mb\n",
    "print('0=transition, 1=gyre core, 2=gyre edge, 3=circumpolar')\n",
    "at.calc_oneLevel_stats(ploc, dfp.isel(depth=14), n_components_selected, varname='dyn_height')\n",
    "\n",
    "# plot maps of dynamic height  \n",
    "pt.plot_dynamic_height_maps(ploc, dfp, lon_range, lat_range, n_components_selected)"
   ]
  },
  {
   "cell_type": "markdown",
   "id": "927a132d-e5a3-4be6-80ae-2bb92229a65b",
   "metadata": {
    "tags": []
   },
   "source": [
    "### imetric"
   ]
  },
  {
   "cell_type": "code",
   "execution_count": null,
   "id": "6a4e59ec-19e6-4ff4-9b8e-ddad64e0a954",
   "metadata": {},
   "outputs": [],
   "source": [
    "# print mld stats\n",
    "print('0=transition, 1=gyre core, 2=gyre edge, 3=circumpolar')\n",
    "at.calc_oneLevel_stats(ploc, dfp, n_components_selected, 'imetric')\n",
    "\n",
    "# histogram map (imetric)\n",
    "pt.plot_hist_map(ploc, df1D, lon_range, lat_range,\n",
    "                 n_components_selected,\n",
    "                 c_range=(0,1),\n",
    "                 vartype='imetric',\n",
    "                 colormap=plt.get_cmap('cividis'))"
   ]
  },
  {
   "cell_type": "markdown",
   "id": "cf51a15a-3acf-4c52-b988-2740709ff70a",
   "metadata": {
    "tags": []
   },
   "source": [
    "### Volume histograms "
   ]
  },
  {
   "cell_type": "code",
   "execution_count": null,
   "id": "165bbf8d-6930-47f0-a1e4-493abdb12707",
   "metadata": {},
   "outputs": [],
   "source": [
    "# some T-S histograms\n",
    "sbins = np.arange(Srange[0], Srange[1], 0.025)\n",
    "tbins = np.arange(Trange[0], Trange[1], 0.1)\n",
    "df_select = dfp.where(dfp.label==0, drop=True)\n",
    "histTS_class1 = pt.calc_and_plot_volume_histogram_TS(ploc, df_select, sbins=sbins, tbins=tbins, modStr='class1')\n",
    "df_select = dfp.where(dfp.label==1, drop=True)\n",
    "histTS_class2 = pt.calc_and_plot_volume_histogram_TS(ploc, df_select, sbins=sbins, tbins=tbins, modStr='class2')\n",
    "df_select = dfp.where(dfp.label==2, drop=True)\n",
    "histTS_class3 = pt.calc_and_plot_volume_histogram_TS(ploc, df_select, sbins=sbins, tbins=tbins, modStr='class3')\n",
    "df_select = dfp.where(dfp.label==3, drop=True)\n",
    "histTS_class4 = pt.calc_and_plot_volume_histogram_TS(ploc, df_select, sbins=sbins, tbins=tbins, modStr='class4')"
   ]
  },
  {
   "cell_type": "markdown",
   "id": "3adcc0d1-4d30-4798-9751-9e8d65d026dc",
   "metadata": {
    "tags": []
   },
   "source": [
    "### Maximum temperature "
   ]
  },
  {
   "cell_type": "code",
   "execution_count": null,
   "id": "dc2a40d3-8454-4721-8c06-1d24fedca242",
   "metadata": {},
   "outputs": [],
   "source": [
    "# print stats\n",
    "print('0=transition, 1=gyre core, 2=gyre edge, 3=circumpolar')\n",
    "at.calc_oneLevel_stats(ploc, dfp, n_components_selected, 'Tmax')\n",
    "\n",
    "# histogram map (Tmax)\n",
    "pt.plot_hist_map(ploc, df1D, lon_range, lat_range,\n",
    "                 n_components_selected,\n",
    "                 c_range=(0,3),\n",
    "                 vartype='Tmax',\n",
    "                 colormap=cmocean.cm.thermal)"
   ]
  },
  {
   "cell_type": "markdown",
   "id": "1b50b64f-bf59-492f-9f63-df9a33653da8",
   "metadata": {
    "tags": []
   },
   "source": [
    "### Minimum temperature"
   ]
  },
  {
   "cell_type": "code",
   "execution_count": null,
   "id": "589d2302-af2c-4664-9269-0aba3e5e99a0",
   "metadata": {},
   "outputs": [],
   "source": [
    "# print stats\n",
    "print('0=transition, 1=gyre core, 2=gyre edge, 3=circumpolar')\n",
    "at.calc_oneLevel_stats(ploc, dfp, n_components_selected, 'Tmin')\n",
    "\n",
    "# histogram map (Tmax)\n",
    "pt.plot_hist_map(ploc, df1D, lon_range, lat_range,\n",
    "                 n_components_selected,\n",
    "                 c_range=(-2,2),\n",
    "                 vartype='Tmin',\n",
    "                 colormap=cmocean.cm.thermal)"
   ]
  },
  {
   "cell_type": "markdown",
   "id": "968a7afb-dd6a-49bf-9ab0-34d727ad7e30",
   "metadata": {
    "tags": []
   },
   "source": [
    "### Minimum salinity"
   ]
  },
  {
   "cell_type": "code",
   "execution_count": null,
   "id": "79490964-588f-4a33-a11c-b9698ee655b4",
   "metadata": {},
   "outputs": [],
   "source": [
    "# print stats\n",
    "print('0=transition, 1=gyre core, 2=gyre edge, 3=circumpolar')\n",
    "at.calc_oneLevel_stats(ploc, dfp, n_components_selected, 'Smin')\n",
    "\n",
    "# histogram map (Tmax)\n",
    "pt.plot_hist_map(ploc, df1D, lon_range, lat_range,\n",
    "                 n_components_selected,\n",
    "                 c_range=(33.0, 34.7),\n",
    "                 vartype='Smin',\n",
    "                 colormap=cmocean.cm.haline)"
   ]
  },
  {
   "cell_type": "markdown",
   "id": "e87f26b8-67d5-44b3-a031-8b54b2ab200c",
   "metadata": {},
   "source": [
    "### T-S histogram by month"
   ]
  },
  {
   "cell_type": "code",
   "execution_count": null,
   "id": "ae68ccb1-fdb3-4c67-861d-7596402addb2",
   "metadata": {},
   "outputs": [],
   "source": [
    "pt.plot_hist_TS(ploc, dfp, n_components_selected,\n",
    "                sbins = np.arange(33, 35, 0.025), \n",
    "                tbins = np.arange(-2, 7, 0.1),\n",
    "                vartype='month',\n",
    "                colormap=cmocean.cm.phase)"
   ]
  },
  {
   "cell_type": "markdown",
   "id": "4e26d88f-1a3f-4fa2-b32e-a2ab552d6f07",
   "metadata": {},
   "source": [
    "## T-S histogram by year"
   ]
  },
  {
   "cell_type": "code",
   "execution_count": null,
   "id": "374c782b-e992-4083-a4a2-fbe1d1148b32",
   "metadata": {},
   "outputs": [],
   "source": [
    "pt.plot_hist_TS(ploc, dfp, n_components_selected,\n",
    "                sbins = np.arange(33, 35, 0.025), \n",
    "                tbins = np.arange(-2, 7, 0.1),\n",
    "                vartype='year',\n",
    "                crange=[1975, 2020],\n",
    "                colormap=cmocean.cm.thermal)"
   ]
  },
  {
   "cell_type": "markdown",
   "id": "c5ebb013-d948-481a-a168-9e18fc8145b5",
   "metadata": {},
   "source": [
    "## T-S histogtram by MLD"
   ]
  },
  {
   "cell_type": "code",
   "execution_count": null,
   "id": "26fa4923-826b-478d-9672-b5e051bcbfe7",
   "metadata": {},
   "outputs": [],
   "source": [
    "pt.plot_hist_TS(ploc, dfp, n_components_selected,\n",
    "                sbins = np.arange(33, 35, 0.025), \n",
    "                tbins = np.arange(-2, 7, 0.1),\n",
    "                vartype='mld',\n",
    "                crange=[0, 300],\n",
    "                colormap=cmocean.cm.thermal)"
   ]
  },
  {
   "cell_type": "markdown",
   "id": "9f8eaeb1-0490-4717-9ecd-6ab3fb43a111",
   "metadata": {},
   "source": [
    "## T-S histogram by imetric"
   ]
  },
  {
   "cell_type": "code",
   "execution_count": null,
   "id": "3351de42-0de1-459f-8412-0a7953f9940c",
   "metadata": {},
   "outputs": [],
   "source": [
    "pt.plot_hist_TS(ploc, dfp, n_components_selected,\n",
    "                sbins = np.arange(33, 35, 0.025), \n",
    "                tbins = np.arange(-2, 7, 0.1),\n",
    "                vartype='imetric',\n",
    "                crange=[0, 1],\n",
    "                colormap=cmocean.cm.thermal)"
   ]
  },
  {
   "cell_type": "markdown",
   "id": "19b99212-3fb9-44c9-85e2-0d0a4dd406ca",
   "metadata": {},
   "source": [
    "## Get mean label in each 1x1 bin"
   ]
  },
  {
   "cell_type": "code",
   "execution_count": null,
   "id": "0eaa05cf-a01d-455c-8801-c118aefa963f",
   "metadata": {},
   "outputs": [],
   "source": [
    "pt.plot_hist_map(ploc, dfp,\n",
    "                 lon_range, lat_range,\n",
    "                 n_components_selected,\n",
    "                 c_range=[0,4],\n",
    "                 vartype='label',\n",
    "                 colormap=colormap)"
   ]
  },
  {
   "cell_type": "markdown",
   "id": "faadd1a4-577e-455a-b4c6-fda90a12f371",
   "metadata": {},
   "source": [
    "## Split the gyre edge class"
   ]
  },
  {
   "cell_type": "code",
   "execution_count": null,
   "id": "18b143bc-d7a9-4ac7-b127-7667b5671756",
   "metadata": {},
   "outputs": [],
   "source": [
    "# split edge class into northern extend and southern extent\n",
    "edge_north, edge_south = at.split_single_class_by_box(dfp, class_split=2, box_edges=[-60, 20, -65, -55])\n",
    "\n",
    "# compare the two collections of profiles\n",
    "pt.compare_two_collections('.', edge_north, edge_south)"
   ]
  },
  {
   "cell_type": "code",
   "execution_count": null,
   "id": "7851c311-22ea-4315-b365-771a40f3e59f",
   "metadata": {},
   "outputs": [],
   "source": [
    "compare_two_collections('.', edge_north, edge_south)"
   ]
  },
  {
   "cell_type": "code",
   "execution_count": null,
   "id": "17493b08-4a07-452d-993a-ac1ecad17dde",
   "metadata": {},
   "outputs": [],
   "source": []
  }
 ],
 "metadata": {
  "kernelspec": {
   "display_name": "Python 3 (ipykernel)",
   "language": "python",
   "name": "python3"
  },
  "language_info": {
   "codemirror_mode": {
    "name": "ipython",
    "version": 3
   },
   "file_extension": ".py",
   "mimetype": "text/x-python",
   "name": "python",
   "nbconvert_exporter": "python",
   "pygments_lexer": "ipython3",
   "version": "3.9.7"
  }
 },
 "nbformat": 4,
 "nbformat_minor": 5
}
